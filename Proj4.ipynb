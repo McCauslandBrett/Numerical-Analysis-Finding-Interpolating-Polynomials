{
 "cells": [
  {
   "cell_type": "markdown",
   "metadata": {},
   "source": [
    "# Numerical Anaylasis Proj 4\n"
   ]
  },
  {
   "cell_type": "markdown",
   "metadata": {},
   "source": [
    "### Prolem 1: Find the polynomial of degree 10 that interpolates the function arctan x at 11 equally spaced points in the interval [1,6]. Print the coefficients in the Newton form of the polynomial. Compute and print the difference between the polynomial and the function at 33 equally spaced points in the interval [0,8]. What conclusion can be drawn?"
   ]
  },
  {
   "cell_type": "markdown",
   "metadata": {},
   "source": [
    " ####  Prolem 1: Print the coefficients in the Newton form of the polynomial."
   ]
  },
  {
   "cell_type": "code",
   "execution_count": 4,
   "metadata": {
    "scrolled": false
   },
   "outputs": [
    {
     "name": "stdout",
     "output_type": "stream",
     "text": [
      "Matrix([[0.785398163397448, 0.402843797977465, -0.153274974082992, 0.0458491398368293, -0.0110733536933921, 0.00216313869198317, -0.000329063209962730, 3.26938070460224e-5, 5.03927839154818e-7, -1.21987805058446e-6, 3.70644555184973e-7]])\n"
     ]
    }
   ],
   "source": [
    "#import sympy\n",
    "from sympy import *\n",
    "import sympy as sym\n",
    "import numpy as npy\n",
    "import math\n",
    "#using init_printing\n",
    "sym.init_printing(use_latex=\"mathjax\")\n",
    "init_printing(use_unicode=True,)\n",
    "\n",
    "\n",
    "  \n",
    "# # Function to find the root \n",
    "def arctan(x): \n",
    "    return npy.arctan(x)\n",
    "\n",
    "\n",
    "\n",
    "def populateDatapoints_matrix(f,x,y,a,b,n):\n",
    " t = (b-a)/n\n",
    " an=a\n",
    " for i in range(n):\n",
    "    y[i,0]= f(an)\n",
    "    x.append(an)\n",
    "    an=an+t\n",
    "\n",
    "def productTerm(i, value, x):\n",
    "    product = 1 \n",
    "    for j in range(0,i):\n",
    "        product = product * (value - x[j]) \n",
    "    return product \n",
    "\n",
    "def dividedDiffTable_matrix(x, y, n):\n",
    "    for i in range(1,n): \n",
    "        for j in range(0,n-i):\n",
    "            y[j,i]= (y[j,i - 1] - y[j + 1,i - 1]) / (x[j] - x[i + j]) \n",
    " \n",
    "def NewtonDividedDifference(value,x,y,n): \n",
    "    sum = y[0,0] \n",
    "    for i in range(1, n):\n",
    "        sum = sum + (productTerm(i, value, x) * y[0,i]) \n",
    "    return sum \n",
    "        \n",
    "# construct table polynomial 11 \n",
    "a=1\n",
    "b=6\n",
    "x=[]\n",
    "x_array=[]\n",
    "n=11\n",
    "ymatrix= sym.Matrix.zeros(n,n)\n",
    "xmatrix= sym.Matrix.zeros(n)\n",
    "populateDatapoints_matrix(arctan,x,ymatrix,a,b,n)\n",
    "dividedDiffTable_matrix(x, ymatrix, n)\n",
    "xmatrix=ymatrix.row(0)\n",
    "print(xmatrix)\n",
    "\n",
    "    \n"
   ]
  },
  {
   "cell_type": "markdown",
   "metadata": {},
   "source": [
    "#### Prolem 1: Find the polynomial of degree 10 that interpolates the function arctan x at 11 equally spaced points in the interval [1,6]"
   ]
  },
  {
   "cell_type": "code",
   "execution_count": 101,
   "metadata": {},
   "outputs": [
    {
     "data": {
      "image/png": "[encoded data removed]",
      "text/latex": [
       "$$3.70644555184973 \\cdot 10^{-7} x^{10} - 1.2507689503945 \\cdot 10^{-5} x^{9} + 0.000182979893808116 x^{8} - 0.00149831739885535 x^{7} + 0.0072507613294304 x^{6} - 0.0184140900756385 x^{5} - 0.00039789220117583 x^{4} + 0.18168736652767 x^{3} - 0.695321763013647 x^{2} + 1.40555075423656 x - 0.0936294988557575$$"
      ],
      "text/plain": [
       "                     10                       9                         8     \n",
       "3.70644555184973e-7⋅x   - 1.2507689503945e-5⋅x  + 0.000182979893808116⋅x  - 0.\n",
       "\n",
       "                   7                       6                       5          \n",
       "00149831739885535⋅x  + 0.0072507613294304⋅x  - 0.0184140900756385⋅x  - 0.00039\n",
       "\n",
       "              4                     3                      2                  \n",
       "789220117583⋅x  + 0.18168736652767⋅x  - 0.695321763013647⋅x  + 1.4055507542365\n",
       "\n",
       "                        \n",
       "6⋅x - 0.0936294988557575"
      ]
     },
     "execution_count": 101,
     "metadata": {},
     "output_type": "execute_result"
    }
   ],
   "source": [
    "from sympy import *\n",
    "init_printing(use_latex=True)\n",
    "\n",
    "\n",
    "#import sympy\n",
    "from sympy import *\n",
    "import sympy as sym\n",
    "import numpy as npy\n",
    "import math\n",
    "#using init_printing\n",
    "sym.init_printing(use_latex=\"mathjax\")\n",
    "init_printing(use_unicode=True,)\n",
    "x=symbols('x')\n",
    "\n",
    "def populateDatapoints_matrix(f,w,y,a,b,n):\n",
    " t = (b-a)/n\n",
    "#  print('t',t)\n",
    "#  print('a',a)\n",
    "#  print('b',b)\n",
    " an=a\n",
    " for i in range(n):\n",
    "    y[i,0]= f(an)\n",
    "    w.append(an)\n",
    "    an=an+t\n",
    "\n",
    "def arctan(w): \n",
    "    return npy.arctan(w)\n",
    "\n",
    "def productTerm_string(i, w):\n",
    "    s=''\n",
    "    for j in range(0,i):\n",
    "        temp=w[j]\n",
    "        s= s + '('+ str(x-temp)+')'\n",
    "        if(i != i-1):\n",
    "            s=s+\"*\"\n",
    "    #print('s product term:',s)\n",
    "    return s \n",
    "\n",
    "def dividedDiffTable_matrix(w, y, n):\n",
    "    for i in range(1,n): \n",
    "        for j in range(0,n-i):\n",
    "            y[j,i]= (y[j,i - 1] - y[j + 1,i - 1]) / (w[j] - w[i + j]) \n",
    " \n",
    "def NewtonDividedDifference_string(w,y,n): \n",
    "\n",
    "    sum = y[0,0] \n",
    "    s=''\n",
    "    s=str(y[0,0])\n",
    "    p=''\n",
    "    for i in range(1, n):\n",
    "        temp=y[0,i]       \n",
    "        p=productTerm_string(i,w) \n",
    "        s = s +\"+\"+ p + '('+ str(temp)+')' \n",
    "        \n",
    "    return s \n",
    "        \n",
    "     \n",
    "# #polynomial \n",
    "a2=1\n",
    "b2=6\n",
    "\n",
    "n2=11\n",
    "w=[]\n",
    "ymatrix= sym.Matrix.zeros(n2,n2)\n",
    "populateDatapoints_matrix(arctan,w,ymatrix,a2,b2,n2)\n",
    "dividedDiffTable_matrix(w, ymatrix, n2)\n",
    "# #string\n",
    "x=symbols('x')\n",
    "r= NewtonDividedDifference_string(w,ymatrix,n2)\n",
    "expand(r)\n",
    "\n",
    "\n",
    "\n",
    "\n",
    "\n",
    "\n",
    "\n",
    "\n",
    "\n",
    "\n",
    "# L1 = (x-2)*(x-3)/((0-2)*(0-3))\n",
    "# L2 = (x-0)*(x-3)/((2-0)*(2-3))\n",
    "# L3 = (x-0)*(x-2)/((3-0)*(3-2))\n",
    "# p = 1*L1 + 3*L2 + 0*L3\n",
    "# expand(p)"
   ]
  },
  {
   "cell_type": "markdown",
   "metadata": {},
   "source": [
    "#### Prolem 1: Compute and print the difference between the polynomial and the function at 33 equally spaced points in the interval [0,8]"
   ]
  },
  {
   "cell_type": "code",
   "execution_count": 36,
   "metadata": {},
   "outputs": [
    {
     "name": "stdout",
     "output_type": "stream",
     "text": [
      "realyvalues output [0.0, 0.23783592745745075, 0.45145309155255431, 0.62879628641543295, 0.77001476161685323, 0.88099628206128866, 0.96850898065993241, 1.0382922284930458, 1.0947269964721353, 1.1410340476982079, 1.1795607476677223, 1.2120256565243244, 1.2397002500907643, 1.2635375114637544, 1.2842615598373017, 1.3024301158889897, 1.3184783459084692, 1.3327499616301144, 1.3455195475808412, 1.3570087926370105, 1.3673984380695425, 1.3768371795350034, 1.3854483767992019, 1.3933351669359968, 1.400584401509422, 1.4072697079739034, 1.41345389206132, 1.4191908393566237, 1.4245270327186352, 1.4295027724192153, 1.4341531643038095, 1.4385089255010606, 1.4425970455635984]\n"
     ]
    },
    {
     "data": {
      "image/png": "[encoded data removed]",
      "text/latex": [
       "$$0$$"
      ],
      "text/plain": [
       "0"
      ]
     },
     "execution_count": 36,
     "metadata": {},
     "output_type": "execute_result"
    }
   ],
   "source": [
    "# # Function to find the root \n",
    "def arctan(x): \n",
    "    return npy.arctan(x)\n",
    "\n",
    "\n",
    "def NewtonDividedDifference_string(w,y,n): \n",
    "\n",
    "    sum = y[0,0] \n",
    "    s=''\n",
    "    s=str(y[0,0])\n",
    "    p=''\n",
    "    for i in range(1, n):\n",
    "        temp=y[0,i]       \n",
    "        p=productTerm_string(i,w) \n",
    "        s = s +\"+\"+ p + '('+ str(temp)+')' \n",
    "        \n",
    "    return s \n",
    "def productTerm_string(i, w):\n",
    "    s=''\n",
    "    for j in range(0,i):\n",
    "        temp=w[j]\n",
    "        s= s + '('+ str(x-temp)+')'\n",
    "        if(i != i-1):\n",
    "            s=s+\"*\"\n",
    "    #print('s product term:',s)\n",
    "    return s \n",
    "def populateDatapoints_matrix(f,x,y,a,b,n):\n",
    " t = (b-a)/n\n",
    " an=a\n",
    " for i in range(n):\n",
    "    y[i,0]= f(an)\n",
    "    x.append(an)\n",
    "    an=an+t\n",
    "def fillactual(f,a,b,n,r,v):\n",
    "    t = (b-a)/n\n",
    "    \n",
    "    an=a\n",
    "    for i in range(n):\n",
    "#         print('an',an)\n",
    "        r.append(f(an))\n",
    "        v.append(an)\n",
    "        an=an+t\n",
    "        \n",
    "\n",
    "def getdifs_expr(f,expr,a,b,n,diff):\n",
    "    xvalues=[]\n",
    "    realyvalues=[]\n",
    "    fillactual(f,a,b,n,realyvalues,xvalues)\n",
    "    print('realyvalues output',realyvalues)\n",
    "    for i in range(n):\n",
    "        x=xvalues[i]\n",
    "        aprox = eval(expr)\n",
    "        d=aprox - realyvalues[i]\n",
    "        diff.append(d)   \n",
    "    \n",
    "def productTerm(i, value, x):\n",
    "    product = 1 \n",
    "    for j in range(0,i):\n",
    "        product = product * (value - x[j]) \n",
    "    return product \n",
    "\n",
    "\n",
    "def dividedDiffTable_matrix(x, y, n):\n",
    "    for i in range(1,n): \n",
    "        for j in range(0,n-i):\n",
    "            y[j,i]= (y[j,i - 1] - y[j + 1,i - 1]) / (x[j] - x[i + j]) \n",
    " \n",
    "def NewtonDividedDifference(value,x,y,n): \n",
    "    sum = y[0,0] \n",
    "    for i in range(1, n):\n",
    "        sum = sum + (productTerm(i, value, x) * y[0,i]) \n",
    "    return sum \n",
    "def main():\n",
    "#     print('hello world')\n",
    "    #assumption polynomial is degree the one constructed with 11 terms [0,6]\n",
    "    #difference between the polynomial and the function at 33 equally spaced points in the interval [0,8]\n",
    "    \n",
    "    #polynomial \n",
    "    a2=1\n",
    "    b2=6\n",
    "    n2=11\n",
    "    xvalues=[]\n",
    "    ymatrix= sym.Matrix.zeros(n2,n2)\n",
    "    populateDatapoints_matrix(arctan,xvalues,ymatrix,a2,b2,n2)\n",
    "    dividedDiffTable_matrix(xvalues, ymatrix, n2)\n",
    "    expr = NewtonDividedDifference_string(xvalues,ymatrix,n2)\n",
    "    # diffs populate 33 equally spaced points\n",
    "    a=0\n",
    "    b=8\n",
    "    n=33\n",
    "\n",
    "    diff=[]\n",
    "    getdifs_expr(arctan,expr,a,b,n,diff)\n",
    "    \n",
    "    return 0\n",
    "\n",
    "main()\n"
   ]
  },
  {
   "cell_type": "markdown",
   "metadata": {
    "collapsed": true
   },
   "source": [
    "#### Problem 2 (3 pts) Let f (x) = max{0, 1, −x}. Sketch the function f . Then find interpolating polynomials p of degrees 2, 4, 8, 16, and 32 to f on the interval [-4,4], using equally spaced nodes. Calculate the discrepancy f(x) − p(x) at 64 equally spaced points for each p and plot it. Then redo the problem using Chebyshev nodes. Compare."
   ]
  },
  {
   "cell_type": "markdown",
   "metadata": {},
   "source": [
    " ### Problem 2: Let f (x) = max{0, 1, −x}. Sketch the function f"
   ]
  },
  {
   "cell_type": "code",
   "execution_count": 29,
   "metadata": {},
   "outputs": [
    {
     "data": {
      "image/png": "[encoded data removed]",
      "text/plain": [
       "<matplotlib.figure.Figure at 0x10ae74e48>"
      ]
     },
     "metadata": {},
     "output_type": "display_data"
    }
   ],
   "source": [
    "import matplotlib.pyplot as plt\n",
    "from sympy import *\n",
    "init_printing(use_latex=True)\n",
    "\n",
    "\n",
    "#import sympy\n",
    "from sympy import *\n",
    "import sympy as sym\n",
    "import numpy as npy\n",
    "import math\n",
    "#using init_printing\n",
    "sym.init_printing(use_latex=\"mathjax\")\n",
    "init_printing(use_unicode=True,)\n",
    "\n",
    "x=symbols('x')\n",
    "def populateDatapoints_matrix(f,w,y,a,b,n):\n",
    " t = (b-a)/n\n",
    "#  print('t',t)\n",
    "#  print('a',a)\n",
    "#  print('b',b)\n",
    " an=a\n",
    " for i in range(n):\n",
    "    y[i,0]= f(an)\n",
    "    w.append(an)\n",
    "    an=an+t\n",
    "\n",
    "def arctan(w): \n",
    "    return npy.arctan(w)\n",
    "\n",
    "def productTerm_string(i, w):\n",
    "    s=''\n",
    "    for j in range(0,i):\n",
    "        temp=w[j]\n",
    "        s= s + '('+ str(x-temp)+')'\n",
    "        if(i != i-1):\n",
    "            s=s+\"*\"\n",
    "    #print('s product term:',s)\n",
    "    return s \n",
    "\n",
    "def dividedDiffTable_matrix(w, y, n):\n",
    "    for i in range(1,n): \n",
    "        for j in range(0,n-i):\n",
    "            y[j,i]= (y[j,i - 1] - y[j + 1,i - 1]) / (w[j] - w[i + j]) \n",
    "def NewtonDividedDifference_string(w,y,n): \n",
    "\n",
    "    sum = y[0,0] \n",
    "    s=''\n",
    "    s=str(y[0,0])\n",
    "    p=''\n",
    "    for i in range(1, n):\n",
    "        temp=y[0,i]       \n",
    "        p=productTerm_string(i,w) \n",
    "        s = s +\"+\"+ p + '('+ str(temp)+')' \n",
    "        \n",
    "    return s \n",
    "\n",
    "def f(x):\n",
    "    x=x*(-1)\n",
    "    return max(0, 1, x)\n",
    "\n",
    "\n",
    "\n",
    "\n",
    " \n",
    "k=[]\n",
    "y=[]\n",
    "for i in range (-100,100):\n",
    "    k.append(f(i))\n",
    "    y.append(i)\n",
    " \n",
    " #plot(p,(x,0,4),xlabel=’x’,ylabel=’y’,title=’Intepolating polynomial for (0,-2), (2,1), (4,4)’)\n",
    "plt.plot(k, y)  \n",
    "plt.show()\n",
    "\n",
    "\n",
    "\n",
    "\n",
    "\n",
    "\n",
    "\n",
    "\n",
    "\n",
    "\n",
    "\n",
    "\n",
    "\n",
    "\n",
    "\n",
    "\n",
    "\n",
    "\n",
    "\n",
    "\n",
    "\n",
    "\n"
   ]
  },
  {
   "cell_type": "markdown",
   "metadata": {},
   "source": [
    "### find interpolating polynomials p of degrees 2, 4, 8, 16, and 32 to f on the interval [-4,4], using equally spaced nodes"
   ]
  },
  {
   "cell_type": "code",
   "execution_count": 107,
   "metadata": {},
   "outputs": [
    {
     "data": {
      "image/png": "[encoded data removed]",
      "text/latex": [
       "$$0.331454415917008 x + 1.99840144432528 \\cdot 10^{-15}$$"
      ],
      "text/plain": [
       "0.331454415917008⋅x + 1.99840144432528e-15"
      ]
     },
     "execution_count": 107,
     "metadata": {},
     "output_type": "execute_result"
    }
   ],
   "source": [
    "import matplotlib.pyplot as plt\n",
    "init_printing(use_latex=True)\n",
    "import sympy as sym\n",
    "import numpy as npy\n",
    "import math\n",
    "#using init_printing\n",
    "sym.init_printing(use_latex=\"mathjax\")\n",
    "init_printing(use_unicode=True,)\n",
    "x=symbols('x')\n",
    "\n",
    "def populateDatapoints_matrix(f,w,y,a,b,n):\n",
    " t = (b-a)/n\n",
    " an=a\n",
    " for i in range(n):\n",
    "    y[i,0]= f(an)\n",
    "    w.append(an)\n",
    "    an=an+t\n",
    "\n",
    "def arctan(w): \n",
    "    return npy.arctan(w)\n",
    "\n",
    "def productTerm_string(i, w):\n",
    "    s=''\n",
    "    for j in range(0,i):\n",
    "        temp=w[j]\n",
    "        s= s + '('+ str(x-temp)+')'\n",
    "        if(i != i-1):\n",
    "            s=s+\"*\"\n",
    "    #print('s product term:',s)\n",
    "    return s \n",
    "\n",
    "def dividedDiffTable_matrix(w, y, n):\n",
    "    for i in range(1,n): \n",
    "        for j in range(0,n-i):\n",
    "            y[j,i]= (y[j,i - 1] - y[j + 1,i - 1]) / (w[j] - w[i + j]) \n",
    "def NewtonDividedDifference_string(w,y,n): \n",
    "\n",
    "    sum = y[0,0] \n",
    "    s=''\n",
    "    s=str(y[0,0])\n",
    "    p=''\n",
    "    for i in range(1, n):\n",
    "        temp=y[0,i]       \n",
    "        p=productTerm_string(i,w) \n",
    "        s = s +\"+\"+ p + '('+ str(temp)+')' \n",
    "        \n",
    "    return s \n",
    "\n",
    "def fw(w):\n",
    "    w=w*(-1)\n",
    "    return max(0, 1, w)\n",
    "\n",
    "\n",
    "#Then find interpolating polynomials p of degrees 2, 4, 8, 16, and 32 to f on the interval [-4,4], \n",
    "# using equally spaced nodes.\n",
    "\n",
    "#degrees 2\n",
    "#---polynomial \n",
    "a2=-4\n",
    "b2=4\n",
    "n2=2\n",
    "w2=[]\n",
    "ymatrix= sym.Matrix.zeros(n2,n2)\n",
    "populateDatapoints_matrix(arctan,w2,ymatrix,a2,b2,n2)\n",
    "dividedDiffTable_matrix(w2, ymatrix, n2)\n",
    "#---printing  degrees 2  \n",
    "\n",
    "r2= NewtonDividedDifference_string(w2,ymatrix,n2)\n",
    "expand(r2)\n",
    "    \n",
    "\n",
    "\n"
   ]
  },
  {
   "cell_type": "code",
   "execution_count": 103,
   "metadata": {},
   "outputs": [
    {
     "data": {
      "image/png": "[encoded data removed]",
      "text/latex": [
       "$$0.125 x^{2} - 0.25 x + 1.0$$"
      ],
      "text/plain": [
       "       2               \n",
       "0.125⋅x  - 0.25⋅x + 1.0"
      ]
     },
     "execution_count": 103,
     "metadata": {},
     "output_type": "execute_result"
    }
   ],
   "source": [
    "import matplotlib.pyplot as plt\n",
    "init_printing(use_latex=True)\n",
    "import sympy as sym\n",
    "import numpy as npy\n",
    "import math\n",
    "#using init_printing\n",
    "sym.init_printing(use_latex=\"mathjax\")\n",
    "init_printing(use_unicode=True,)\n",
    "x=symbols('x')\n",
    "\n",
    "def populateDatapoints_matrix(f,w,y,a,b,n):\n",
    " t = (b-a)/n\n",
    "#  print('t',t)\n",
    "#  print('a',a)\n",
    "#  print('b',b)\n",
    " an=a\n",
    " for i in range(n):\n",
    "    y[i,0]= f(an)\n",
    "    w.append(an)\n",
    "    an=an+t\n",
    "\n",
    "def arctan(w): \n",
    "    return npy.arctan(w)\n",
    "\n",
    "def productTerm_string(i, w):\n",
    "    s=''\n",
    "    for j in range(0,i):\n",
    "        temp=w[j]\n",
    "        s= s + '('+ str(x-temp)+')'\n",
    "        if(i != i-1):\n",
    "            s=s+\"*\"\n",
    "    #print('s product term:',s)\n",
    "    return s \n",
    "\n",
    "def dividedDiffTable_matrix(w, y, n):\n",
    "    for i in range(1,n): \n",
    "        for j in range(0,n-i):\n",
    "            y[j,i]= (y[j,i - 1] - y[j + 1,i - 1]) / (w[j] - w[i + j]) \n",
    "def NewtonDividedDifference_string(w,y,n): \n",
    "\n",
    "    sum = y[0,0] \n",
    "    s=''\n",
    "    s=str(y[0,0])\n",
    "    p=''\n",
    "    for i in range(1, n):\n",
    "        temp=y[0,i]       \n",
    "        p=productTerm_string(i,w) \n",
    "        s = s +\"+\"+ p + '('+ str(temp)+')' \n",
    "        \n",
    "    return s \n",
    "\n",
    "def fw(w):\n",
    "    w=w*(-1)\n",
    "    return max(0, 1, w)\n",
    "\n",
    "\n",
    "#Then find interpolating polynomials p of degrees 2, 4, 8, 16, and 32 to f on the interval [-4,4], \n",
    "# using equally spaced nodes.\n",
    "\n",
    "    \n",
    "#degrees 4\n",
    "a2=-4\n",
    "b2=4\n",
    "n2=4\n",
    "w4=[]\n",
    "ymatrix= sym.Matrix.zeros(n2,n2)\n",
    "populateDatapoints_matrix(fw,w4,ymatrix,a2,b2,n2)\n",
    "dividedDiffTable_matrix(w4, ymatrix, n2)\n",
    "#---printing  degrees 4  \n",
    "r4= NewtonDividedDifference_string(w4,ymatrix,n2)\n",
    "expand(r4)\n",
    "\n"
   ]
  },
  {
   "cell_type": "code",
   "execution_count": 104,
   "metadata": {},
   "outputs": [
    {
     "data": {
      "image/png": "[encoded data removed]",
      "text/latex": [
       "$$1.61249685059209 \\cdot 10^{-5} x^{15} + 4.6514332228618 \\cdot 10^{-5} x^{14} - 0.000618640618640618 x^{13} - 0.0015712682379349 x^{12} + 0.00937053070386402 x^{11} + 0.0197354497354495 x^{10} - 0.0718682287729915 x^{9} - 0.113803854875284 x^{8} + 0.295433862433864 x^{7} + 0.293641975308649 x^{6} - 0.616966490299811 x^{5} - 0.241865079365044 x^{4} + 0.467222474174921 x^{3} + 0.0438162631020559 x^{2} - 0.0825896325895933 x + 1.00000000000001$$"
      ],
      "text/plain": [
       "                     15                       14                         13   \n",
       "1.61249685059209e-5⋅x   + 4.6514332228618e-5⋅x   - 0.000618640618640618⋅x   - \n",
       "\n",
       "                    12                        11                       10     \n",
       "0.0015712682379349⋅x   + 0.00937053070386402⋅x   + 0.0197354497354495⋅x   - 0.\n",
       "\n",
       "                  9                      8                      7             \n",
       "0718682287729915⋅x  - 0.113803854875284⋅x  + 0.295433862433864⋅x  + 0.29364197\n",
       "\n",
       "         6                      5                      4                      \n",
       "5308649⋅x  - 0.616966490299811⋅x  - 0.241865079365044⋅x  + 0.467222474174921⋅x\n",
       "\n",
       "3                       2                                          \n",
       "  + 0.0438162631020559⋅x  - 0.0825896325895933⋅x + 1.00000000000001"
      ]
     },
     "execution_count": 104,
     "metadata": {},
     "output_type": "execute_result"
    }
   ],
   "source": [
    "import matplotlib.pyplot as plt\n",
    "init_printing(use_latex=True)\n",
    "import sympy as sym\n",
    "import numpy as npy\n",
    "import math\n",
    "#using init_printing\n",
    "sym.init_printing(use_latex=\"mathjax\")\n",
    "init_printing(use_unicode=True,)\n",
    "x=symbols('x')\n",
    "\n",
    "def populateDatapoints_matrix(f,w,y,a,b,n):\n",
    " t = (b-a)/n\n",
    "#  print('t',t)\n",
    "#  print('a',a)\n",
    "#  print('b',b)\n",
    " an=a\n",
    " for i in range(n):\n",
    "    y[i,0]= f(an)\n",
    "    w.append(an)\n",
    "    an=an+t\n",
    "\n",
    "def arctan(w): \n",
    "    return npy.arctan(w)\n",
    "\n",
    "def productTerm_string(i, w):\n",
    "    s=''\n",
    "    for j in range(0,i):\n",
    "        temp=w[j]\n",
    "        s= s + '('+ str(x-temp)+')'\n",
    "        if(i != i-1):\n",
    "            s=s+\"*\"\n",
    "    #print('s product term:',s)\n",
    "    return s \n",
    "\n",
    "def dividedDiffTable_matrix(w, y, n):\n",
    "    for i in range(1,n): \n",
    "        for j in range(0,n-i):\n",
    "            y[j,i]= (y[j,i - 1] - y[j + 1,i - 1]) / (w[j] - w[i + j]) \n",
    "def NewtonDividedDifference_string(w,y,n): \n",
    "\n",
    "    sum = y[0,0] \n",
    "    s=''\n",
    "    s=str(y[0,0])\n",
    "    p=''\n",
    "    for i in range(1, n):\n",
    "        temp=y[0,i]       \n",
    "        p=productTerm_string(i,w) \n",
    "        s = s +\"+\"+ p + '('+ str(temp)+')' \n",
    "        \n",
    "    return s \n",
    "\n",
    "def fw(w):\n",
    "    w=w*(-1)\n",
    "    return max(0, 1, w)\n",
    "\n",
    "\n",
    "#Then find interpolating polynomials p of degrees 2, 4, 8, 16, and 32 to f on the interval [-4,4], \n",
    "# using equally spaced nodes.\n",
    "\n",
    "#degrees 16\n",
    "a2=-4\n",
    "b2=4\n",
    "n2=16\n",
    "w16=[]\n",
    "ymatrix= sym.Matrix.zeros(n2,n2)\n",
    "populateDatapoints_matrix(fw,w16,ymatrix,a2,b2,n2)\n",
    "dividedDiffTable_matrix(w16, ymatrix, n2)\n",
    "#---printing  degrees 16  \n",
    "r16= NewtonDividedDifference_string(w16,ymatrix,n2)\n",
    "expand(r16)\n",
    "\n"
   ]
  },
  {
   "cell_type": "code",
   "execution_count": 13,
   "metadata": {},
   "outputs": [
    {
     "data": {
      "image/png": "[encoded data removed]",
      "text/latex": [
       "$$4.85087465772575 \\cdot 10^{-9} x^{31} + 1.42598987783145 \\cdot 10^{-8} x^{30} - 3.91221248950511 \\cdot 10^{-7} x^{29} - 1.08922708971857 \\cdot 10^{-6} x^{28} + 1.40464334535301 \\cdot 10^{-5} x^{27} + 3.66401543325998 \\cdot 10^{-5} x^{26} - 0.000296773714253524 x^{25} - 0.000715724792707225 x^{24} + 0.00410931699787995 x^{23} + 0.00901396325067296 x^{22} - 0.0393033127915205 x^{21} - 0.0768401922183005 x^{20} + 0.266583352681567 x^{19} + 0.452866228986612 x^{18} - 1.29534019295516 x^{17} - 1.85135278530192 x^{16} + 4.49784928836001 x^{15} + 5.18726311255155 x^{14} - 10.9959026817321 x^{13} - 9.67916314376179 x^{12} + 18.3688323680897 x^{11} + 11.4304360974688 x^{10} - 19.9244676082699 x^{9} - 7.86432852663257 x^{8} + 12.9152231861739 x^{7} + 2.79778448621379 x^{6} - 4.42505237720532 x^{5} - 0.422213067315226 x^{4} + 0.65422122705294 x^{3} + 0.0172139869253196 x^{2} - 0.0264694521827036 x + 1.00000000000028$$"
      ],
      "text/plain": [
       "                     31                        30                        29   \n",
       "4.85087465772575e-9⋅x   + 1.42598987783145e-8⋅x   - 3.91221248950511e-7⋅x   - \n",
       "\n",
       "                     28                        27                        26   \n",
       "1.08922708971857e-6⋅x   + 1.40464334535301e-5⋅x   + 3.66401543325998e-5⋅x   - \n",
       "\n",
       "                      25                         24                        23 \n",
       "0.000296773714253524⋅x   - 0.000715724792707225⋅x   + 0.00410931699787995⋅x   \n",
       "\n",
       "                       22                       21                       20   \n",
       "+ 0.00901396325067296⋅x   - 0.0393033127915205⋅x   - 0.0768401922183005⋅x   + \n",
       "\n",
       "                   19                      18                     17          \n",
       "0.266583352681567⋅x   + 0.452866228986612⋅x   - 1.29534019295516⋅x   - 1.85135\n",
       "\n",
       "           16                     15                     14                   \n",
       "278530192⋅x   + 4.49784928836001⋅x   + 5.18726311255155⋅x   - 10.9959026817321\n",
       "\n",
       "  13                     12                     11                     10     \n",
       "⋅x   - 9.67916314376179⋅x   + 18.3688323680897⋅x   + 11.4304360974688⋅x   - 19\n",
       "\n",
       "                9                     8                     7                 \n",
       ".9244676082699⋅x  - 7.86432852663257⋅x  + 12.9152231861739⋅x  + 2.797784486213\n",
       "\n",
       "    6                     5                      4                     3      \n",
       "79⋅x  - 4.42505237720532⋅x  - 0.422213067315226⋅x  + 0.65422122705294⋅x  + 0.0\n",
       "\n",
       "                 2                                          \n",
       "172139869253196⋅x  - 0.0264694521827036⋅x + 1.00000000000028"
      ]
     },
     "execution_count": 13,
     "metadata": {},
     "output_type": "execute_result"
    }
   ],
   "source": [
    "import matplotlib.pyplot as plt\n",
    "init_printing(use_latex=True)\n",
    "import sympy as sym\n",
    "import numpy as npy\n",
    "import math\n",
    "#using init_printing\n",
    "sym.init_printing(use_latex=\"mathjax\")\n",
    "init_printing(use_unicode=True,)\n",
    "x=symbols('x')\n",
    "\n",
    "def populateDatapoints_matrix(f,w,y,a,b,n):\n",
    " t = (b-a)/n\n",
    " an=a\n",
    " for i in range(n):\n",
    "    y[i,0]= f(an)\n",
    "    w.append(an)\n",
    "    an=an+t\n",
    "\n",
    "def arctan(w): \n",
    "    return npy.arctan(w)\n",
    "\n",
    "def productTerm_string(i, w):\n",
    "    s=''\n",
    "    for j in range(0,i):\n",
    "        temp=w[j]\n",
    "        s= s + '('+ str(x-temp)+')'\n",
    "        if(i != i-1):\n",
    "            s=s+\"*\"\n",
    "    return s \n",
    "\n",
    "def dividedDiffTable_matrix(w, y, n):\n",
    "    for i in range(1,n): \n",
    "        for j in range(0,n-i):\n",
    "            y[j,i]= (y[j,i - 1] - y[j + 1,i - 1]) / (w[j] - w[i + j]) \n",
    "def NewtonDividedDifference_string(w,y,n): \n",
    "\n",
    "    sum = y[0,0] \n",
    "    s=''\n",
    "    s=str(y[0,0])\n",
    "    p=''\n",
    "    for i in range(1, n):\n",
    "        temp=y[0,i]       \n",
    "        p=productTerm_string(i,w) \n",
    "        s = s +\"+\"+ p + '('+ str(temp)+')' \n",
    "        \n",
    "    return s \n",
    "\n",
    "def fw(w):\n",
    "    w=w*(-1)\n",
    "    return max(0, 1, w)\n",
    "\n",
    "\n",
    "#Then find interpolating polynomials p of degrees 2, 4, 8, 16, and 32 to f on the interval [-4,4], \n",
    "# using equally spaced nodes.\n",
    "\n",
    "#degrees 32\n",
    "a2=-4\n",
    "b2=4\n",
    "n2=32\n",
    "w32=[]\n",
    "ymatrix= sym.Matrix.zeros(n2,n2)\n",
    "populateDatapoints_matrix(fw,w32,ymatrix,a2,b2,n2)\n",
    "dividedDiffTable_matrix(w32, ymatrix, n2)\n",
    "#---printing  degrees 32  \n",
    "r32= NewtonDividedDifference_string(w32,ymatrix,n2)\n",
    "expand(r32)\n",
    "\n"
   ]
  },
  {
   "cell_type": "markdown",
   "metadata": {},
   "source": [
    "### Calculate the discrepancy f(x) − p(x) at 64 equally spaced points for each p and plot it."
   ]
  },
  {
   "cell_type": "markdown",
   "metadata": {},
   "source": [
    "###  f(x) − p2(x)"
   ]
  },
  {
   "cell_type": "code",
   "execution_count": 24,
   "metadata": {},
   "outputs": [
    {
     "name": "stdout",
     "output_type": "stream",
     "text": [
      "difference Poly Degree 2 Red is without Chebyshev nodes and green is with Chebyshev nodes\n"
     ]
    },
    {
     "data": {
      "image/png": "[encoded data removed]",
      "text/plain": [
       "<matplotlib.figure.Figure at 0x112123c88>"
      ]
     },
     "metadata": {},
     "output_type": "display_data"
    },
    {
     "data": {
      "image/png": "[encoded data removed]",
      "text/plain": [
       "<matplotlib.figure.Figure at 0x112148c50>"
      ]
     },
     "metadata": {},
     "output_type": "display_data"
    },
    {
     "name": "stdout",
     "output_type": "stream",
     "text": [
      "difference Poly Degree 4 Red is without Chebyshev nodes and green is with Chebyshev nodes\n"
     ]
    },
    {
     "data": {
      "image/png": "[encoded data removed]",
      "text/plain": [
       "<matplotlib.figure.Figure at 0x1124f5080>"
      ]
     },
     "metadata": {},
     "output_type": "display_data"
    },
    {
     "data": {
      "image/png": "[encoded data removed]",
      "text/plain": [
       "<matplotlib.figure.Figure at 0x1124f56d8>"
      ]
     },
     "metadata": {},
     "output_type": "display_data"
    },
    {
     "name": "stdout",
     "output_type": "stream",
     "text": [
      "difference Poly Degree 8 Red is without Chebyshev nodes and green is with Chebyshev nodes\n"
     ]
    },
    {
     "data": {
      "image/png": "[encoded data removed]",
      "text/plain": [
       "<matplotlib.figure.Figure at 0x1121486a0>"
      ]
     },
     "metadata": {},
     "output_type": "display_data"
    },
    {
     "data": {
      "image/png": "[encoded data removed]",
      "text/plain": [
       "<matplotlib.figure.Figure at 0x111ceba58>"
      ]
     },
     "metadata": {},
     "output_type": "display_data"
    },
    {
     "name": "stdout",
     "output_type": "stream",
     "text": [
      "difference Poly Degree 16 Red is without Chebyshev nodes and green is with Chebyshev nodes\n"
     ]
    },
    {
     "data": {
      "image/png": "[encoded data removed]",
      "text/plain": [
       "<matplotlib.figure.Figure at 0x1078adba8>"
      ]
     },
     "metadata": {},
     "output_type": "display_data"
    },
    {
     "data": {
      "image/png": "[encoded data removed]",
      "text/plain": [
       "<matplotlib.figure.Figure at 0x1078c7f60>"
      ]
     },
     "metadata": {},
     "output_type": "display_data"
    },
    {
     "name": "stdout",
     "output_type": "stream",
     "text": [
      "difference Poly Degree 32 Red is without Chebyshev nodes and green is with Chebyshev nodes\n"
     ]
    },
    {
     "data": {
      "image/png": "[encoded data removed]",
      "text/plain": [
       "<matplotlib.figure.Figure at 0x112542e80>"
      ]
     },
     "metadata": {},
     "output_type": "display_data"
    },
    {
     "data": {
      "image/png": "[encoded data removed]",
      "text/plain": [
       "<matplotlib.figure.Figure at 0x10c998fd0>"
      ]
     },
     "metadata": {},
     "output_type": "display_data"
    }
   ],
   "source": [
    "import matplotlib.pyplot as plt\n",
    "\n",
    "init_printing(use_latex=True)\n",
    "import sympy as sym\n",
    "import numpy as npy\n",
    "import math\n",
    "#using init_printing\n",
    "sym.init_printing(use_latex=\"mathjax\")\n",
    "init_printing(use_unicode=True,)\n",
    "x=symbols('x')\n",
    "sym.init_printing(use_latex=\"mathjax\")\n",
    "init_printing(use_unicode=True,)\n",
    "\n",
    "def populateDatapoints_matrix(f,w,y,a,b,n):\n",
    " t = (b-a)/n\n",
    " an=a\n",
    " for i in range(n):\n",
    "    y[i,0]= f(an)\n",
    "    w.append(an)\n",
    "    an = an + t\n",
    "#(arctan,w,ymatrix,a,b,ndegree_poly)\n",
    "def populateDatapoints_matrix_Chebyshev(f,nodes,y,a,b,n):\n",
    "\n",
    " for j in range(n):\n",
    "     nodes.append(npy.cos((2*(j+1)-1)/(2*n)*npy.pi))\n",
    " for i in range(n):\n",
    "    y[i,0]= f(nodes[i])\n",
    "   \n",
    "\n",
    "\n",
    "def arctan(w): \n",
    "    return npy.arctan(w)\n",
    "\n",
    "def productTerm_string(i, w):\n",
    "    s=''\n",
    "    for j in range(0,i):\n",
    "        temp=w[j]\n",
    "        s= s + '('+ str(x-temp)+')'\n",
    "        if(i != i-1):\n",
    "            s=s+\"*\"\n",
    "    #print('s product term:',s)\n",
    "    return s \n",
    "\n",
    "def dividedDiffTable_matrix(w, y, n):\n",
    "    for i in range(1,n): \n",
    "        for j in range(0,n-i):\n",
    "            y[j,i]= (y[j,i - 1] - y[j + 1,i - 1]) / (w[j] - w[i + j]) \n",
    "def NewtonDividedDifference_string(w,y,n): \n",
    "\n",
    "    sum = y[0,0] \n",
    "    s=''\n",
    "    s=str(y[0,0])\n",
    "    p=''\n",
    "    for i in range(1, n):\n",
    "        temp=y[0,i]       \n",
    "        p=productTerm_string(i,w) \n",
    "        s = s +\"+\"+ p + '('+ str(temp)+')' \n",
    "        \n",
    "    return s \n",
    "# fillactual(fw,a2,b2,n2,realvalues,w2)\n",
    "def fillactual(f,a,b,n,r,v):\n",
    "    t = (b-a)/n\n",
    "    \n",
    "    an=a\n",
    "    for i in range(n):\n",
    "#         print('an',an)\n",
    "        r.append(f(an))\n",
    "        v.append(an)\n",
    "        an=an+t\n",
    "        \n",
    "\n",
    "                             \n",
    "def getdifs_expr(f,expr,a,b,n,diff,xvalues):\n",
    "    realyvalues=[]\n",
    "    fillactual(f,a,b,n,realyvalues,xvalues)\n",
    "    for i in range(n):\n",
    "        x=xvalues[i]\n",
    "        aprox = eval(expr)\n",
    "        d=abs(aprox - realyvalues[i]) #should i use abs?????????????????????????????????????????????\n",
    "        diff.append(d)    \n",
    "def fw(w):\n",
    "    w=w*(-1)\n",
    "    return max(0, 1, w)\n",
    "\n",
    "def NewtonDividedDifference(value,w,y,n): \n",
    "    sum = y[0,0] \n",
    "    for i in range(1, n):\n",
    "        sum = sum + (productTerm(i, value, w) * y[0,i]) \n",
    "    return sum \n",
    "def difplot(ndegree_poly,nPlaces):\n",
    "    a=-4\n",
    "    b=4\n",
    "    n=2\n",
    "    w=[]\n",
    "    createxvalues=[]\n",
    "    diff=[]\n",
    "    print('difference Poly Degree',ndegree_poly,\"Red is without Chebyshev nodes and green is with Chebyshev nodes\")\n",
    "    ymatrix= sym.Matrix.zeros(ndegree_poly,ndegree_poly)\n",
    "    populateDatapoints_matrix(arctan,w,ymatrix,a,b,ndegree_poly)\n",
    "    dividedDiffTable_matrix(w, ymatrix, ndegree_poly)\n",
    "    expr= NewtonDividedDifference_string(w,ymatrix,n)\n",
    "    getdifs_expr(fw,expr,a,b,nPlaces,diff,createxvalues)\n",
    "    plt.plot(createxvalues,diff,color='red')           #plot1 \n",
    "    plt.show()\n",
    "    \n",
    "    w=[]\n",
    "    createxvalues=[]\n",
    "    diff=[]\n",
    "    ymatrix= sym.Matrix.zeros(ndegree_poly,ndegree_poly)\n",
    "    populateDatapoints_matrix_Chebyshev(arctan,w,ymatrix,a,b,ndegree_poly)##che\n",
    "    dividedDiffTable_matrix(w, ymatrix, ndegree_poly)\n",
    "    expr= NewtonDividedDifference_string(w,ymatrix,n)\n",
    "    getdifs_expr(fw,expr,a,b,nPlaces,diff,createxvalues)\n",
    "    \n",
    "    plt.plot(createxvalues,diff,color='green')\n",
    "    plt.show()\n",
    "\n",
    "ndegree_poly2=2\n",
    "ndegree_poly4=4\n",
    "ndegree_poly8=8\n",
    "ndegree_poly16=16\n",
    "ndegree_poly32=32\n",
    "nPlaces=64\n",
    "difplot(ndegree_poly2,nPlaces)\n",
    "difplot(ndegree_poly4,nPlaces)\n",
    "difplot(ndegree_poly8,nPlaces)\n",
    "difplot(ndegree_poly16,nPlaces)\n",
    "difplot(ndegree_poly32,nPlaces)\n"
   ]
  },
  {
   "cell_type": "markdown",
   "metadata": {},
   "source": []
  },
  {
   "cell_type": "code",
   "execution_count": null,
   "metadata": {
    "collapsed": true
   },
   "outputs": [],
   "source": []
  }
 ],
 "metadata": {
  "kernelspec": {
   "display_name": "Python 3",
   "language": "python",
   "name": "python3"
  },
  "language_info": {
   "codemirror_mode": {
    "name": "ipython",
    "version": 3
   },
   "file_extension": ".py",
   "mimetype": "text/x-python",
   "name": "python",
   "nbconvert_exporter": "python",
   "pygments_lexer": "ipython3",
   "version": "3.6.3"
  }
 },
 "nbformat": 4,
 "nbformat_minor": 2
}
