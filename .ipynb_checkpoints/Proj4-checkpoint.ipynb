{
 "cells": [
  {
   "cell_type": "markdown",
   "metadata": {},
   "source": [
    "# Numerical Anaylasis Proj 4\n"
   ]
  },
  {
   "cell_type": "markdown",
   "metadata": {},
   "source": [
    "### Prolem 1: Find the polynomial of degree 10 that interpolates the function arctan x at 11 equally spaced points in the interval [1,6]. Print the coefficients in the Newton form of the polynomial. Compute and print the difference between the polynomial and the function at 33 equally spaced points in the interval [0,8]. What conclusion can be drawn?"
   ]
  },
  {
   "cell_type": "markdown",
   "metadata": {},
   "source": [
    " #### Find the polynomial of degree 10 that interpolates the function arctan x at 11 equally spaced points in the interval [1,6]. Print the coefficients in the Newton form of the polynomial."
   ]
  },
  {
   "cell_type": "code",
   "execution_count": 93,
   "metadata": {
    "scrolled": false
   },
   "outputs": [
    {
     "name": "stdout",
     "output_type": "stream",
     "text": [
      "Matrix([[0.785398163397448, 0.402843797977465, -0.153274974082992, 0.0458491398368293, -0.0110733536933921, 0.00216313869198317, -0.000329063209962730, 3.26938070460224e-5, 5.03927839154818e-7, -1.21987805058446e-6, 3.70644555184973e-7]])\n"
     ]
    }
   ],
   "source": [
    "#import sympy\n",
    "from sympy import *\n",
    "import sympy as sym\n",
    "import numpy as npy\n",
    "import math\n",
    "#using init_printing\n",
    "sym.init_printing(use_latex=\"mathjax\")\n",
    "init_printing(use_unicode=True,)\n",
    "\n",
    "\n",
    "  \n",
    "# # Function to find the root \n",
    "def arctan(x): \n",
    "    return npy.arctan(x)\n",
    "\n",
    "def f2(x):\n",
    "    return pow(x,2)\n",
    "\n",
    "\n",
    "def populateDatapoints_matrix(f,x,y,a,b,n):\n",
    " t = (b-a)/n\n",
    "#  print('t',t)\n",
    "#  print('a',a)\n",
    "#  print('b',b)\n",
    " an=a\n",
    " for i in range(n):\n",
    "    y[i,0]= f(an)\n",
    "    x.append(an)\n",
    "    an=an+t\n",
    "\n",
    "def productTerm(i, value, x):\n",
    "    product = 1 \n",
    "    for j in range(0,i):\n",
    "        product = product * (value - x[j]) \n",
    "    return product \n",
    "\n",
    "def dividedDiffTable_array(x, y, n):\n",
    "    for i in range(1,n): \n",
    "        for j in range(0,n-i):\n",
    "            y[j][i]= (y[j][i - 1] - y[j + 1][i - 1]) / (x[j] - x[i + j]) \n",
    "\n",
    "def dividedDiffTable_matrix(x, y, n):\n",
    "    for i in range(1,n): \n",
    "        for j in range(0,n-i):\n",
    "            y[j,i]= (y[j,i - 1] - y[j + 1,i - 1]) / (x[j] - x[i + j]) \n",
    " \n",
    "def NewtonDividedDifference(value,x,y,n): \n",
    "    sum = y[0,0] \n",
    "    for i in range(1, n):\n",
    "        sum = sum + (productTerm(i, value, x) * y[0,i]) \n",
    "    return sum \n",
    "        \n",
    "# construct polynomial 11 \n",
    "    a=1\n",
    "    b=6\n",
    "    x=[]\n",
    "    n=11\n",
    "    value=5\n",
    "    # print(\"s\")\n",
    "    # xmatrix= sym.Matrix\n",
    "    ymatrix= sym.Matrix.zeros(n,n)\n",
    "    populateDatapoints_matrix(arctan,x,ymatrix,a,b,n)\n",
    "    dividedDiffTable_matrix(x, ymatrix, n)\n",
    "    \n",
    "ymatrix\n",
    "xmatrix=ymatrix.row(0)\n",
    "print(xmatrix)\n",
    "# \n",
    "\n",
    "#     r=NewtonDividedDifference(value,x,ymatrix,n)\n",
    "#     rp=arctan(value)\n",
    "# print('rp',rp)\n",
    "# print('r',r)\n",
    "\n",
    "\n",
    "#testing-2-----2-----2--------2-------2---------2-----2--------2-------2------2-------2-------\n",
    "# a2=1\n",
    "# b2=8\n",
    "# n2=11\n",
    "# value2=4\n",
    "\n",
    "# tmatrix= sym.Matrix.zeros(n2,n2)\n",
    "# populateDatapoints_matrix(f2,x,tmatrix,a,b,n)\n",
    "# tmatrix\n",
    "# print(x)\n",
    "# result = NewtonDividedDifference(value,x,y,n)\n",
    "# result"
   ]
  },
  {
   "cell_type": "code",
   "execution_count": 57,
   "metadata": {},
   "outputs": [
    {
     "data": {
      "image/png": "[encoded data removed]",
      "text/latex": [
       "$$3.70644555184973 \\cdot 10^{-7} x^{10} - 1.2507689503945 \\cdot 10^{-5} x^{9} + 0.000182979893808116 x^{8} - 0.00149831739885535 x^{7} + 0.0072507613294304 x^{6} - 0.0184140900756385 x^{5} - 0.00039789220117583 x^{4} + 0.18168736652767 x^{3} - 0.695321763013647 x^{2} + 1.40555075423656 x - 0.0936294988557575$$"
      ],
      "text/plain": [
       "                     10                       9                         8     \n",
       "3.70644555184973e-7⋅x   - 1.2507689503945e-5⋅x  + 0.000182979893808116⋅x  - 0.\n",
       "\n",
       "                   7                       6                       5          \n",
       "00149831739885535⋅x  + 0.0072507613294304⋅x  - 0.0184140900756385⋅x  - 0.00039\n",
       "\n",
       "              4                     3                      2                  \n",
       "789220117583⋅x  + 0.18168736652767⋅x  - 0.695321763013647⋅x  + 1.4055507542365\n",
       "\n",
       "                        \n",
       "6⋅x - 0.0936294988557575"
      ]
     },
     "execution_count": 57,
     "metadata": {},
     "output_type": "execute_result"
    }
   ],
   "source": [
    "from sympy import *\n",
    "init_printing(use_latex=True)\n",
    "\n",
    "\n",
    "#import sympy\n",
    "from sympy import *\n",
    "import sympy as sym\n",
    "import numpy as npy\n",
    "import math\n",
    "#using init_printing\n",
    "sym.init_printing(use_latex=\"mathjax\")\n",
    "init_printing(use_unicode=True,)\n",
    "\n",
    "\n",
    "def populateDatapoints_matrix(f,w,y,a,b,n):\n",
    " t = (b-a)/n\n",
    "#  print('t',t)\n",
    "#  print('a',a)\n",
    "#  print('b',b)\n",
    " an=a\n",
    " for i in range(n):\n",
    "    y[i,0]= f(an)\n",
    "    w.append(an)\n",
    "    an=an+t\n",
    "\n",
    "def arctan(w): \n",
    "    return npy.arctan(w)\n",
    "\n",
    "def productTerm_string(i, w):\n",
    "    s=''\n",
    "    for j in range(0,i):\n",
    "        temp=w[j]\n",
    "        s= s + '('+ str(x-temp)+')'\n",
    "        if(i != i-1):\n",
    "            s=s+\"*\"\n",
    "    #print('s product term:',s)\n",
    "    return s \n",
    "\n",
    "def dividedDiffTable_matrix(w, y, n):\n",
    "    for i in range(1,n): \n",
    "        for j in range(0,n-i):\n",
    "            y[j,i]= (y[j,i - 1] - y[j + 1,i - 1]) / (w[j] - w[i + j]) \n",
    " \n",
    "def NewtonDividedDifference_string(w,y,n): \n",
    "\n",
    "    sum = y[0,0] \n",
    "    s=''\n",
    "    s=str(y[0,0])\n",
    "    p=''\n",
    "    for i in range(1, n):\n",
    "        temp=y[0,i]       \n",
    "        p=productTerm_string(i,w) \n",
    "        s = s +\"+\"+ p + '('+ str(temp)+')' \n",
    "        \n",
    "    return s \n",
    "        \n",
    "     \n",
    "# #polynomial \n",
    "a2=1\n",
    "b2=6\n",
    "\n",
    "n2=11\n",
    "w=[]\n",
    "ymatrix= sym.Matrix.zeros(n2,n2)\n",
    "populateDatapoints_matrix(arctan,w,ymatrix,a2,b2,n2)\n",
    "# print(w)\n",
    "dividedDiffTable_matrix(w, ymatrix, n2)\n",
    "# #string\n",
    "x=symbols('x')\n",
    "r= NewtonDividedDifference_string(w,ymatrix,n2)\n",
    "expand(r)\n",
    "\n",
    "\n",
    "\n",
    "\n",
    "\n",
    "\n",
    "\n",
    "\n",
    "\n",
    "\n",
    "# L1 = (x-2)*(x-3)/((0-2)*(0-3))\n",
    "# L2 = (x-0)*(x-3)/((2-0)*(2-3))\n",
    "# L3 = (x-0)*(x-2)/((3-0)*(3-2))\n",
    "# p = 1*L1 + 3*L2 + 0*L3\n",
    "# expand(p)"
   ]
  },
  {
   "cell_type": "markdown",
   "metadata": {},
   "source": [
    "#### Compute and print the difference between the polynomial and the function at 33 equally spaced points in the interval [0,8]"
   ]
  },
  {
   "cell_type": "code",
   "execution_count": 59,
   "metadata": {},
   "outputs": [
    {
     "name": "stdout",
     "output_type": "stream",
     "text": [
      "difference at 33 separte points: [0.0936294988557597, 0.0290164352738549, 0.0290164352738549, 0.0290164352738549, 0.0290164352738549, 0.0290164352738549, 0.0290164352738549, 0.0290164352738549, 0.0290164352738549, 0.0290164352738549, 0.0290164352738549, 0.0290164352738549, 0.0290164352738549, 0.0290164352738549, 0.0290164352738549, 0.0290164352738549, 0.0290164352738549, 0.0290164352738549, 0.0290164352738549, 0.0290164352738549, 0.0290164352738549, 0.0290164352738549, 0.0290164352738549, 0.0290164352738549, 0.0290164352738549, 0.0290164352738549, 0.0290164352738549, 0.0290164352738549, 0.0290164352738549, 0.0290164352738549, 0.0290164352738549, 0.0290164352738549, 0.0290164352738549]\n"
     ]
    },
    {
     "data": {
      "image/png": "[encoded data removed]",
      "text/latex": [
       "$$0$$"
      ],
      "text/plain": [
       "0"
      ]
     },
     "execution_count": 59,
     "metadata": {},
     "output_type": "execute_result"
    }
   ],
   "source": [
    "# # Function to find the root \n",
    "def arctan(x): \n",
    "    return npy.arctan(x)\n",
    "\n",
    "def f2(x):\n",
    "    return pow(x,2)\n",
    "\n",
    "\n",
    "def populateDatapoints_matrix(f,x,y,a,b,n):\n",
    " t = (b-a)/n\n",
    "#  print('t',t)\n",
    "#  print('a',a)\n",
    "#  print('b',b)\n",
    " an=a\n",
    " for i in range(n):\n",
    "    y[i,0]= f(an)\n",
    "    x.append(an)\n",
    "    an=an+t\n",
    "def fillactual(f,a,b,n,r,v):\n",
    "    t = (b-a)/n\n",
    "    an=a\n",
    "    for i in range(n):\n",
    "       r.append(f(an))\n",
    "       v.append(an)\n",
    "       an=a+t\n",
    "    \n",
    "    \n",
    "def productTerm(i, value, x):\n",
    "    product = 1 \n",
    "    for j in range(0,i):\n",
    "        product = product * (value - x[j]) \n",
    "    return product \n",
    "\n",
    "def dividedDiffTable_array(x, y, n):\n",
    "    for i in range(1,n): \n",
    "        for j in range(0,n-i):\n",
    "            y[j][i]= (y[j][i - 1] - y[j + 1][i - 1]) / (x[j] - x[i + j]) \n",
    "\n",
    "def dividedDiffTable_matrix(x, y, n):\n",
    "    for i in range(1,n): \n",
    "        for j in range(0,n-i):\n",
    "            y[j,i]= (y[j,i - 1] - y[j + 1,i - 1]) / (x[j] - x[i + j]) \n",
    " \n",
    "def NewtonDividedDifference(value,x,y,n): \n",
    "#     print('x',x)\n",
    "#     print('y',y)\n",
    "    sum = y[0,0] \n",
    "    for i in range(1, n):\n",
    "        sum = sum + (productTerm(i, value, x) * y[0,i]) \n",
    "    return sum \n",
    "def main():\n",
    "#     print('hello world')\n",
    "    #assumption polynomial is degree the one constructed with 11 terms [0,6]\n",
    "    #difference between the polynomial and the function at 33 equally spaced points in the interval [0,8]\n",
    "    \n",
    "    #polynomial \n",
    "    a2=1\n",
    "    b2=6\n",
    "    n2=11\n",
    "    x=[]\n",
    "    ymatrix= sym.Matrix.zeros(n2,n2)\n",
    "    populateDatapoints_matrix(arctan,x,ymatrix,a2,b2,n2)\n",
    "    dividedDiffTable_matrix(x, ymatrix, n2)\n",
    "    #populate 33 equally spaced points\n",
    "    results=[]\n",
    "    a=0\n",
    "    b=8\n",
    "    n=33\n",
    "    xvalues=[]\n",
    "    fillactual(arctan,a,b,n,results,xvalues)\n",
    "    diff=[]\n",
    "    #\n",
    "    \n",
    "    \n",
    "    # \n",
    "    for i in range(n):\n",
    "        r = NewtonDividedDifference(xvalues[i],x,ymatrix,n2)\n",
    "        d=abs(r - results[i])\n",
    "        diff.append(d)\n",
    "    print('difference at 33 separte points:',diff)\n",
    "    \n",
    "    return 0\n",
    "\n",
    "main()\n"
   ]
  },
  {
   "cell_type": "markdown",
   "metadata": {
    "collapsed": true
   },
   "source": [
    "#### Problem 2 (3 pts) Let f (x) = max{0, 1, −x}. Sketch the function f . Then find interpolating polynomials p of degrees 2, 4, 8, 16, and 32 to f on the interval [-4,4], using equally spaced nodes. Calculate the discrepancy f(x) − p(x) at 64 equally spaced points for each p and plot it. Then redo the problem using Chebyshev nodes. Compare."
   ]
  },
  {
   "cell_type": "code",
   "execution_count": 79,
   "metadata": {},
   "outputs": [
    {
     "name": "stdout",
     "output_type": "stream",
     "text": [
      "x\n"
     ]
    },
    {
     "ename": "TypeError",
     "evalue": "'NoneType' object is not iterable",
     "output_type": "error",
     "traceback": [
      "\u001b[0;31m---------------------------------------------------------------------------\u001b[0m",
      "\u001b[0;31mTypeError\u001b[0m                                 Traceback (most recent call last)",
      "\u001b[0;32m<ipython-input-79-5c8c1ca69a22>\u001b[0m in \u001b[0;36m<module>\u001b[0;34m()\u001b[0m\n\u001b[1;32m     15\u001b[0m  \u001b[0;31m#plot(p,(x,0,4),xlabel=’x’,ylabel=’y’,title=’Intepolating polynomial for (0,-2), (2,1), (4,4)’)\u001b[0m\u001b[0;34m\u001b[0m\u001b[0;34m\u001b[0m\u001b[0m\n\u001b[1;32m     16\u001b[0m  \u001b[0mplot\u001b[0m\u001b[0;34m(\u001b[0m\u001b[0mk\u001b[0m\u001b[0;34m,\u001b[0m \u001b[0my\u001b[0m\u001b[0;34m)\u001b[0m\u001b[0;34m\u001b[0m\u001b[0m\n\u001b[0;32m---> 17\u001b[0;31m \u001b[0mmain\u001b[0m\u001b[0;34m(\u001b[0m\u001b[0;34m)\u001b[0m\u001b[0;34m\u001b[0m\u001b[0m\n\u001b[0m\u001b[1;32m     18\u001b[0m \u001b[0;34m\u001b[0m\u001b[0m\n\u001b[1;32m     19\u001b[0m \u001b[0;34m\u001b[0m\u001b[0m\n",
      "\u001b[0;32m<ipython-input-79-5c8c1ca69a22>\u001b[0m in \u001b[0;36mmain\u001b[0;34m()\u001b[0m\n\u001b[1;32m     14\u001b[0m  \u001b[0mprint\u001b[0m\u001b[0;34m(\u001b[0m\u001b[0mx\u001b[0m\u001b[0;34m)\u001b[0m\u001b[0;34m\u001b[0m\u001b[0m\n\u001b[1;32m     15\u001b[0m  \u001b[0;31m#plot(p,(x,0,4),xlabel=’x’,ylabel=’y’,title=’Intepolating polynomial for (0,-2), (2,1), (4,4)’)\u001b[0m\u001b[0;34m\u001b[0m\u001b[0;34m\u001b[0m\u001b[0m\n\u001b[0;32m---> 16\u001b[0;31m  \u001b[0mplot\u001b[0m\u001b[0;34m(\u001b[0m\u001b[0mk\u001b[0m\u001b[0;34m,\u001b[0m \u001b[0my\u001b[0m\u001b[0;34m)\u001b[0m\u001b[0;34m\u001b[0m\u001b[0m\n\u001b[0m\u001b[1;32m     17\u001b[0m \u001b[0mmain\u001b[0m\u001b[0;34m(\u001b[0m\u001b[0;34m)\u001b[0m\u001b[0;34m\u001b[0m\u001b[0m\n\u001b[1;32m     18\u001b[0m \u001b[0;34m\u001b[0m\u001b[0m\n",
      "\u001b[0;32m~/anaconda3/lib/python3.6/site-packages/sympy/plotting/plot.py\u001b[0m in \u001b[0;36mplot\u001b[0;34m(*args, **kwargs)\u001b[0m\n\u001b[1;32m   1289\u001b[0m     \u001b[0mseries\u001b[0m \u001b[0;34m=\u001b[0m \u001b[0;34m[\u001b[0m\u001b[0;34m]\u001b[0m\u001b[0;34m\u001b[0m\u001b[0m\n\u001b[1;32m   1290\u001b[0m     \u001b[0mplot_expr\u001b[0m \u001b[0;34m=\u001b[0m \u001b[0mcheck_arguments\u001b[0m\u001b[0;34m(\u001b[0m\u001b[0margs\u001b[0m\u001b[0;34m,\u001b[0m \u001b[0;36m1\u001b[0m\u001b[0;34m,\u001b[0m \u001b[0;36m1\u001b[0m\u001b[0;34m)\u001b[0m\u001b[0;34m\u001b[0m\u001b[0m\n\u001b[0;32m-> 1291\u001b[0;31m     \u001b[0mseries\u001b[0m \u001b[0;34m=\u001b[0m \u001b[0;34m[\u001b[0m\u001b[0mLineOver1DRangeSeries\u001b[0m\u001b[0;34m(\u001b[0m\u001b[0;34m*\u001b[0m\u001b[0marg\u001b[0m\u001b[0;34m,\u001b[0m \u001b[0;34m**\u001b[0m\u001b[0mkwargs\u001b[0m\u001b[0;34m)\u001b[0m \u001b[0;32mfor\u001b[0m \u001b[0marg\u001b[0m \u001b[0;32min\u001b[0m \u001b[0mplot_expr\u001b[0m\u001b[0;34m]\u001b[0m\u001b[0;34m\u001b[0m\u001b[0m\n\u001b[0m\u001b[1;32m   1292\u001b[0m \u001b[0;34m\u001b[0m\u001b[0m\n\u001b[1;32m   1293\u001b[0m     \u001b[0mplots\u001b[0m \u001b[0;34m=\u001b[0m \u001b[0mPlot\u001b[0m\u001b[0;34m(\u001b[0m\u001b[0;34m*\u001b[0m\u001b[0mseries\u001b[0m\u001b[0;34m,\u001b[0m \u001b[0;34m**\u001b[0m\u001b[0mkwargs\u001b[0m\u001b[0;34m)\u001b[0m\u001b[0;34m\u001b[0m\u001b[0m\n",
      "\u001b[0;31mTypeError\u001b[0m: 'NoneType' object is not iterable"
     ]
    }
   ],
   "source": [
    "def f(x):\n",
    "    x=x*(-1)\n",
    "    return max(0, 1, x)\n",
    "\n",
    "\n",
    "\n",
    "def main():\n",
    " k=[]\n",
    " y=[]\n",
    " for i in range (-100,100):\n",
    "   k.append(f(i))\n",
    "   y.append(i)\n",
    " print(x)\n",
    " #plot(p,(x,0,4),xlabel=’x’,ylabel=’y’,title=’Intepolating polynomial for (0,-2), (2,1), (4,4)’)\n",
    " plot(k, y)  \n",
    "main()\n",
    "\n",
    "\n",
    "\n",
    "\n",
    "\n",
    "\n",
    "\n",
    "\n",
    "\n",
    "\n",
    "\n",
    "\n",
    "\n",
    "\n",
    "\n",
    "\n",
    "\n",
    "\n",
    "\n",
    "\n",
    "\n",
    "\n"
   ]
  },
  {
   "cell_type": "code",
   "execution_count": null,
   "metadata": {
    "collapsed": true
   },
   "outputs": [],
   "source": []
  }
 ],
 "metadata": {
  "kernelspec": {
   "display_name": "Python 3",
   "language": "python",
   "name": "python3"
  },
  "language_info": {
   "codemirror_mode": {
    "name": "ipython",
    "version": 3
   },
   "file_extension": ".py",
   "mimetype": "text/x-python",
   "name": "python",
   "nbconvert_exporter": "python",
   "pygments_lexer": "ipython3",
   "version": "3.6.3"
  }
 },
 "nbformat": 4,
 "nbformat_minor": 2
}
