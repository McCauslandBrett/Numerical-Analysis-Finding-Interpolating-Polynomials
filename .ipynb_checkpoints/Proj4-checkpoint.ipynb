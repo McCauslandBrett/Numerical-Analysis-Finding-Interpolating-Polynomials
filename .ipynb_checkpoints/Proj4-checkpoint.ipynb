{
 "cells": [
  {
   "cell_type": "markdown",
   "metadata": {},
   "source": [
    "# Numerical Anaylasis Proj 4\n"
   ]
  },
  {
   "cell_type": "markdown",
   "metadata": {},
   "source": [
    "### Prolem 1: Find the polynomial of degree 10 that interpolates the function arctan x at 11 equally spaced points in the interval [1,6]. Print the coefficients in the Newton form of the polynomial. Compute and print the difference between the polynomial and the function at 33 equally spaced points in the interval [0,8]. What conclusion can be drawn?"
   ]
  },
  {
   "cell_type": "code",
   "execution_count": 34,
   "metadata": {},
   "outputs": [
    {
     "name": "stdout",
     "output_type": "stream",
     "text": [
      "newtons method fa\n",
      "x: 1.6666666666666667 f(x) 0.6296296296296302 n 1\n",
      "x: 1.5486111111111112 f(x) 0.06804021722822395 n 2\n",
      "x: 1.53239016186538 f(x) 0.0012181398810356958 n 3\n",
      "x: 1.5320889893972243 f(x) 4.16958367277509e-07 n 4\n",
      "x: 1.532088886237968 f(x) 4.851674617611934e-14 n 5\n",
      "x: 1.532088886237956 f(x) 0.0 n 6\n",
      "secantmethod fa\n",
      "x: 1.578125 f(x) 0.19591140747070312 n 1\n",
      "newtons method fb\n",
      "x: -0.329566264766556 f(x) 0.611469847198405 n 1\n",
      "x: 0.0607692234542128 f(x) -0.121239241285804 n 2\n",
      "x: -0.000301417852542299 f(x) 0.000602835668571755 n 3\n",
      "x: 3.65128496014611e-11 f(x) -7.30256992029221e-11 n 4\n",
      "x: 0 f(x) 0 n 5\n",
      "secantmethod fb\n",
      "x: 0.0213971431464272 f(x) -0.0427812244748732 n 1\n"
     ]
    }
   ],
   "source": [
    "#import sympy\n",
    "from sympy import *\n",
    "import sympy as sym\n",
    "import numpy as npy\n",
    "import math\n",
    "#using init_printing\n",
    "sym.init_printing(use_latex=\"mathjax\")\n",
    "init_printing(use_unicode=True,)\n",
    "\n",
    "  \n",
    "# Function to find the root \n",
    "def arctan(x): \n",
    "return npy.arctan(x)\n",
    "\n",
    "        \n",
    "def populateDatapoints(arctan,v,a,b,incr):\n",
    "#  count= len(v)\n",
    " t = b-a/incr\n",
    " v[0]=a\n",
    " for i in range(1,incr):\n",
    "    v[i]=arctan(a+t)\n",
    " print(\"v:\",v)\n",
    "\n",
    "def forward_difference(Mtable) \n",
    "    // table \n",
    "    for i in range(1,n):\n",
    "        for j in range(0, n - i): \n",
    "            Mtable[j][i] = Mtable[j + 1][i - 1] - Mtable[j][i - 1]; \n",
    "\n",
    "  \n",
    "def Displaying_table(Mtable) \n",
    "    for i in range(n): \n",
    "        cout << setw(4) << x[i]  \n",
    "             << \"\\t\"; \n",
    "        for (int j = 0; j < n - i; j++) \n",
    "            cout << setw(4) << y[i][j]  \n",
    "                 << \"\\t\"; \n",
    "        cout << endl; \n",
    "    } \n",
    "\n",
    "#Find the polynomial of degree 10 that interpolates the function arctan x at 11 \n",
    "#equally spaced points in the interval [1,6].\n",
    "a=1\n",
    "b=6\n",
    "incr=11\n",
    "v=[]\n",
    "populateDatapoints(arctan,v,a,b,incr)\n",
    "\n",
    "\n"
   ]
  },
  {
   "cell_type": "markdown",
   "metadata": {},
   "source": [
    "### Conclusion\n"
   ]
  },
  {
   "cell_type": "markdown",
   "metadata": {},
   "source": [
    "## Problem 2:\n",
    "### Let f (x) = max{0, 1, −x}. Sketch the function f . Then find interpolating polynomials p of degrees 2, 4, 8, 16, and 32 to f on the interval [-4,4], using equally spaced nodes. Calculate the discrepancy f(x) − p(x) at 64 equally spaced points for each p and plot it. Then redo the problem using Chebyshev nodes. Compare."
   ]
  },
  {
   "cell_type": "markdown",
   "metadata": {},
   "source": [
    "### fd is a simple root: (x-1)(x-2)"
   ]
  },
  {
   "cell_type": "code",
   "execution_count": 33,
   "metadata": {},
   "outputs": [
    {
     "name": "stdout",
     "output_type": "stream",
     "text": [
      "othermethod testing with simple root\n",
      "testing for linear convergence\n",
      "1.1398135695919107\n",
      "0.13381858421750614\n",
      "0.0009224092149926477\n",
      "3.9168757126617493e-10\n",
      "testing for Quadratic convergence\n",
      "0.2310658502004056\n",
      "0.11740392270063729\n",
      "0.006892982917031775\n",
      "4.246353623747102e-07\n",
      "testing for cubically convergent\n",
      "0.046842245568239814\n",
      "0.10300274170509445\n",
      "0.051509907665949095\n",
      "0.00046035464029714284\n",
      "testing for 4th power convergent\n",
      "0.009495976874004686\n",
      "0.09036806057851433\n",
      "0.38492342425492926\n",
      "0.499078535659265\n",
      "testing for 5th power convergent\n",
      "0.0019250481205105095\n",
      "0.07928319419014196\n",
      "2.876457156573127\n",
      "541.0597894593269\n"
     ]
    }
   ],
   "source": [
    "#import sympy\n",
    "from sympy import *\n",
    "import sympy as sym\n",
    "import math\n",
    "#using init_printing\n",
    "sym.init_printing(use_latex=\"mathjax\")\n",
    "init_printing(use_unicode=True,)\n",
    "\n",
    "def convergece(l_error):\n",
    "    list_r = [\"testing for linear convergence\",\n",
    "              \"testing for Quadratic convergence\",\n",
    "              \"testing for cubically convergent\",\n",
    "              \"testing for 4th power convergent\",\n",
    "              \"testing for 5th power convergent\"\n",
    "             ]\n",
    "    count=len(l_error)\n",
    "   \n",
    "    for k in range(5):\n",
    "        j=1\n",
    "        print(list_r[k])   \n",
    "        for i in range(count-1):\n",
    "            print(l_error[i+1]/pow(l_error[i],k))\n",
    "            j=j+1\n",
    " \n",
    "def fd(x): \n",
    "    return x*(x-3)+2\n",
    "\n",
    "def dfd(x): \n",
    "    return 2*x-3\n",
    "\n",
    "def ddfd(x): \n",
    "    return 2\n",
    "\n",
    "def othermethod(f,df,ddf,x,tolerance,l_error): \n",
    "    n=0\n",
    "    r=2\n",
    "   \n",
    "    while abs(f(x)) >= tolerance: \n",
    "#         print('denominator:',math.sqrt(pow(df(x),2)-f(x)*ddf(x)))\n",
    "        h = f(x)/ math.sqrt(pow(df(x),2)-f(x)*ddf(x)) \n",
    "#         print('h:',h)\n",
    "        x = x - h\n",
    "        l_error.append(x-2)\n",
    "        n=n+1\n",
    "#         print('x:',x,'f(x)',f(x),'n',n)\n",
    "\n",
    "l_error=[]       \n",
    "x0c =20\n",
    "\n",
    "\n",
    "# fd is a simple root: (x-1)(x-2)\n",
    "print('othermethod testing with simple root')\n",
    "othermethod(fd,dfd,ddfd,x0c,0.000000001,l_error)\n",
    "convergece(l_error)\n"
   ]
  },
  {
   "cell_type": "markdown",
   "metadata": {},
   "source": [
    "### Numerically We can see to what power the method is convergent based on wether it is bounded by some value c we can see for ( 5 ) it is not bounded yet it is well bounded cubically"
   ]
  },
  {
   "cell_type": "markdown",
   "metadata": {},
   "source": [
    "# fc is a multiple root: (x-1)(x-2)(x-2) "
   ]
  },
  {
   "cell_type": "code",
   "execution_count": 32,
   "metadata": {},
   "outputs": [
    {
     "name": "stdout",
     "output_type": "stream",
     "text": [
      "othermethod testing with multiple root\n",
      "testing for linear convergence\n",
      "2.9693407676004737\n",
      "1.1133604028070723\n",
      "0.3756212438788231\n",
      "0.11483348219896738\n",
      "0.033848477639022434\n",
      "0.009920400985965028\n",
      "0.002905787385413916\n",
      "0.0008510897327673739\n",
      "0.00024927852102907266\n",
      "7.301199117248913e-05\n",
      "testing for Quadratic convergence\n",
      "0.3998848399275121\n",
      "0.3749520482644973\n",
      "0.33737614785992376\n",
      "0.30571615442499606\n",
      "0.29476139703204796\n",
      "0.2930826340777061\n",
      "0.2929102754540773\n",
      "0.29289470284011854\n",
      "0.29289334770674214\n",
      "0.2928932299143974\n",
      "testing for cubically convergent\n",
      "0.053852992202398406\n",
      "0.1262745092633798\n",
      "0.3030251004161011\n",
      "0.8138947394669223\n",
      "2.5668593461384948\n",
      "8.658665160758186\n",
      "29.526052008227754\n",
      "100.79701781016473\n",
      "344.13920933387396\n",
      "1174.9637662534033\n",
      "testing for 4th power convergent\n",
      "0.007252449904520756\n",
      "0.04252610904117358\n",
      "0.2721716163536045\n",
      "2.166796347997527\n",
      "22.352882599963312\n",
      "255.80663488321815\n",
      "2976.2962253239552\n",
      "34688.366504766374\n",
      "404351.2641315538\n",
      "4713457.707478819\n",
      "testing for 5th power convergent\n",
      "0.000976696511493759\n",
      "0.014321734138833433\n",
      "0.24445957990547246\n",
      "5.768567095998819\n",
      "194.65474852737958\n",
      "7557.404430747865\n",
      "300017.73411525355\n",
      "11937682.254004683\n",
      "475098275.26267916\n",
      "18908398878.574467\n"
     ]
    }
   ],
   "source": [
    "#import sympy\n",
    "from sympy import *\n",
    "import sympy as sym\n",
    "import math\n",
    "#using init_printing\n",
    "sym.init_printing(use_latex=\"mathjax\")\n",
    "init_printing(use_unicode=True,)\n",
    "\n",
    "def convergece(l_error):\n",
    "    list_r = [\"testing for linear convergence\",\n",
    "              \"testing for Quadratic convergence\",\n",
    "              \"testing for cubically convergent\",\n",
    "              \"testing for 4th power convergent\",\n",
    "              \"testing for 5th power convergent\"\n",
    "             ]\n",
    "    count=len(l_error)\n",
    "   \n",
    "    for k in range(5):\n",
    "        j=1\n",
    "        print(list_r[k])   \n",
    "        for i in range(count-1):\n",
    "            print(l_error[i+1]/pow(l_error[i],k))\n",
    "            j=j+1\n",
    "\n",
    "def fc(x): \n",
    "    return x*(x*(x-5)+8)-4\n",
    "\n",
    "def dfc(x): \n",
    "    return x*(x*3-10)+8 \n",
    "\n",
    "def ddfc(x): \n",
    "    return 6*x-10\n",
    "\n",
    "def othermethod(f,df,ddf,x,tolerance,l_error): \n",
    "    n=0\n",
    "    r=2\n",
    "\n",
    "    while abs(f(x)) >= tolerance: \n",
    "#         print('denominator:',math.sqrt(pow(df(x),2)-f(x)*ddf(x)))\n",
    "        h = f(x)/ math.sqrt(pow(df(x),2)-f(x)*ddf(x)) \n",
    "#         print('h:',h)\n",
    "        x = x - h\n",
    "        l_error.append(x-2)\n",
    "        n=n+1\n",
    "#         print('x:',x,'f(x)',f(x),'n',n)\n",
    "  \n",
    "\n",
    "\n",
    "l_error=[]       \n",
    "x0c =20\n",
    "\n",
    "# fc is a multiple root: (x-1)(x-2)(x-2) \n",
    "print('othermethod testing with multiple root')\n",
    "othermethod(fc,dfc,ddfc,x0c,0.00000001,l_error)\n",
    "# print('l_error',l_error)\n",
    "convergece(l_error)"
   ]
  },
  {
   "cell_type": "markdown",
   "metadata": {},
   "source": [
    "### Numerically we can see that unlike before with the simple root using a multiple root It is unbounded for power 3 and there is no C to bound by. However it is still linearly convegergent since it can be bound by some value C"
   ]
  },
  {
   "cell_type": "code",
   "execution_count": null,
   "metadata": {
    "collapsed": true
   },
   "outputs": [],
   "source": []
  }
 ],
 "metadata": {
  "kernelspec": {
   "display_name": "Python 3",
   "language": "python",
   "name": "python3"
  },
  "language_info": {
   "codemirror_mode": {
    "name": "ipython",
    "version": 3
   },
   "file_extension": ".py",
   "mimetype": "text/x-python",
   "name": "python",
   "nbconvert_exporter": "python",
   "pygments_lexer": "ipython3",
   "version": "3.6.3"
  }
 },
 "nbformat": 4,
 "nbformat_minor": 2
}
